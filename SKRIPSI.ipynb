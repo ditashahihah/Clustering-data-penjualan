{
  "nbformat": 4,
  "nbformat_minor": 0,
  "metadata": {
    "colab": {
      "provenance": []
    },
    "kernelspec": {
      "name": "python3",
      "display_name": "Python 3"
    },
    "language_info": {
      "name": "python"
    },
    "gpuClass": "standard"
  },
  "cells": [
    {
      "cell_type": "code",
      "execution_count": 1,
      "metadata": {
        "id": "B4UFKwRkqN3D"
      },
      "outputs": [],
      "source": [
        "# Library untuk dataframe dan visualisasi\n",
        "import numpy as np\n",
        "import pandas as pd\n",
        "import matplotlib.pyplot as plt\n",
        "import seaborn as sns\n",
        "import datetime as dt\n",
        "# Import library untuk Clustering\n",
        "import sklearn\n",
        "from sklearn.preprocessing import StandardScaler\n",
        "from sklearn.cluster import KMeans\n",
        "from sklearn.datasets import load_iris\n",
        "from matplotlib.cm import cmaps_listed\n",
        "# Import library untuk Evaluasi DBI\n",
        "from sklearn.metrics import davies_bouldin_score\n",
        "from sklearn.metrics import pairwise_distances\n"
      ]
    },
    {
      "cell_type": "markdown",
      "source": [
        "# **Tahap Pemahaman Data**"
      ],
      "metadata": {
        "id": "Eaokr3A7EJCm"
      }
    },
    {
      "cell_type": "markdown",
      "source": [
        "## **1. Mendeskripsikan Data**"
      ],
      "metadata": {
        "id": "CBMhlTn9EW8y"
      }
    },
    {
      "cell_type": "code",
      "source": [
        " # Menampilkan dataset toko Melody Beauty\n",
        "df_raw = pd.read_csv('Data2.csv')\n",
        "df_raw.head()"
      ],
      "metadata": {
        "colab": {
          "base_uri": "https://localhost:8080/",
          "height": 354
        },
        "id": "PUOZN13C13Nv",
        "outputId": "31cee78c-2636-4d1a-9b72-ceb90d48089b"
      },
      "execution_count": 2,
      "outputs": [
        {
          "output_type": "execute_result",
          "data": {
            "text/plain": [
              "      Nomer Transaksi    Tanggal Transaksi         Nomor Produk  \\\n",
              "0  576908083372329249  04/01/2023 17:14:46  1729385949253040000   \n",
              "1  576908083372329249  04/01/2023 17:14:46  1729432170961210000   \n",
              "2  576908049686170146  02/01/2023 14:44:58  1729532317799910220   \n",
              "3  576907937339312178  02/01/2023 12:56:56  1729543731428100940   \n",
              "4  576907933997959179  02/01/2023 16:40:05  1729568918565325644   \n",
              "\n",
              "                                         Nama Produk  \\\n",
              "0         ECER day cream/ toner/ Night Cream Ms Glow   \n",
              "1              OBRAL CREAM MALAM MS GLOW NON BARCODE   \n",
              "2  [Reseller] Serum Ms Glow Luminous/Acne/whiteni...   \n",
              "3       SEMUA PRODUK OBRAL MS GLOW Semua Jenis Kulit   \n",
              "4       SEMUA PRODUK OBRAL MS GLOW Semua Jenis Kulit   \n",
              "\n",
              "                             Variasi         Kategori Produk  \\\n",
              "0                    Malam Whitening          Skin Care Kits   \n",
              "1                        CM ultimate  Moisturisers & Mists\\t   \n",
              "2  Serum White cell DNA mini MS GLOW     Serums & Essences\\t   \n",
              "3                 FACIAL COWOK OBRAL          Skin Care Kits   \n",
              "4                   Moisturizer Yuzu          Skin Care Kits   \n",
              "\n",
              "   Volume Penjualan  Harga Jual Total Pembayaran  \n",
              "0                 2  IDR 68.000      IDR 202.342  \n",
              "1                 1  IDR 60.000      IDR 202.342  \n",
              "2                 1  IDR 38.000       IDR 43.376  \n",
              "3                 1  IDR 45.500       IDR 45.500  \n",
              "4                 1  IDR 87.500       IDR 87.500  "
            ],
            "text/html": [
              "\n",
              "  <div id=\"df-86465b4e-f164-4137-b147-c3b282df2aa0\">\n",
              "    <div class=\"colab-df-container\">\n",
              "      <div>\n",
              "<style scoped>\n",
              "    .dataframe tbody tr th:only-of-type {\n",
              "        vertical-align: middle;\n",
              "    }\n",
              "\n",
              "    .dataframe tbody tr th {\n",
              "        vertical-align: top;\n",
              "    }\n",
              "\n",
              "    .dataframe thead th {\n",
              "        text-align: right;\n",
              "    }\n",
              "</style>\n",
              "<table border=\"1\" class=\"dataframe\">\n",
              "  <thead>\n",
              "    <tr style=\"text-align: right;\">\n",
              "      <th></th>\n",
              "      <th>Nomer Transaksi</th>\n",
              "      <th>Tanggal Transaksi</th>\n",
              "      <th>Nomor Produk</th>\n",
              "      <th>Nama Produk</th>\n",
              "      <th>Variasi</th>\n",
              "      <th>Kategori Produk</th>\n",
              "      <th>Volume Penjualan</th>\n",
              "      <th>Harga Jual</th>\n",
              "      <th>Total Pembayaran</th>\n",
              "    </tr>\n",
              "  </thead>\n",
              "  <tbody>\n",
              "    <tr>\n",
              "      <th>0</th>\n",
              "      <td>576908083372329249</td>\n",
              "      <td>04/01/2023 17:14:46</td>\n",
              "      <td>1729385949253040000</td>\n",
              "      <td>ECER day cream/ toner/ Night Cream Ms Glow</td>\n",
              "      <td>Malam Whitening</td>\n",
              "      <td>Skin Care Kits</td>\n",
              "      <td>2</td>\n",
              "      <td>IDR 68.000</td>\n",
              "      <td>IDR 202.342</td>\n",
              "    </tr>\n",
              "    <tr>\n",
              "      <th>1</th>\n",
              "      <td>576908083372329249</td>\n",
              "      <td>04/01/2023 17:14:46</td>\n",
              "      <td>1729432170961210000</td>\n",
              "      <td>OBRAL CREAM MALAM MS GLOW NON BARCODE</td>\n",
              "      <td>CM ultimate</td>\n",
              "      <td>Moisturisers &amp; Mists\\t</td>\n",
              "      <td>1</td>\n",
              "      <td>IDR 60.000</td>\n",
              "      <td>IDR 202.342</td>\n",
              "    </tr>\n",
              "    <tr>\n",
              "      <th>2</th>\n",
              "      <td>576908049686170146</td>\n",
              "      <td>02/01/2023 14:44:58</td>\n",
              "      <td>1729532317799910220</td>\n",
              "      <td>[Reseller] Serum Ms Glow Luminous/Acne/whiteni...</td>\n",
              "      <td>Serum White cell DNA mini MS GLOW</td>\n",
              "      <td>Serums &amp; Essences\\t</td>\n",
              "      <td>1</td>\n",
              "      <td>IDR 38.000</td>\n",
              "      <td>IDR 43.376</td>\n",
              "    </tr>\n",
              "    <tr>\n",
              "      <th>3</th>\n",
              "      <td>576907937339312178</td>\n",
              "      <td>02/01/2023 12:56:56</td>\n",
              "      <td>1729543731428100940</td>\n",
              "      <td>SEMUA PRODUK OBRAL MS GLOW Semua Jenis Kulit</td>\n",
              "      <td>FACIAL COWOK OBRAL</td>\n",
              "      <td>Skin Care Kits</td>\n",
              "      <td>1</td>\n",
              "      <td>IDR 45.500</td>\n",
              "      <td>IDR 45.500</td>\n",
              "    </tr>\n",
              "    <tr>\n",
              "      <th>4</th>\n",
              "      <td>576907933997959179</td>\n",
              "      <td>02/01/2023 16:40:05</td>\n",
              "      <td>1729568918565325644</td>\n",
              "      <td>SEMUA PRODUK OBRAL MS GLOW Semua Jenis Kulit</td>\n",
              "      <td>Moisturizer Yuzu</td>\n",
              "      <td>Skin Care Kits</td>\n",
              "      <td>1</td>\n",
              "      <td>IDR 87.500</td>\n",
              "      <td>IDR 87.500</td>\n",
              "    </tr>\n",
              "  </tbody>\n",
              "</table>\n",
              "</div>\n",
              "      <button class=\"colab-df-convert\" onclick=\"convertToInteractive('df-86465b4e-f164-4137-b147-c3b282df2aa0')\"\n",
              "              title=\"Convert this dataframe to an interactive table.\"\n",
              "              style=\"display:none;\">\n",
              "        \n",
              "  <svg xmlns=\"http://www.w3.org/2000/svg\" height=\"24px\"viewBox=\"0 0 24 24\"\n",
              "       width=\"24px\">\n",
              "    <path d=\"M0 0h24v24H0V0z\" fill=\"none\"/>\n",
              "    <path d=\"M18.56 5.44l.94 2.06.94-2.06 2.06-.94-2.06-.94-.94-2.06-.94 2.06-2.06.94zm-11 1L8.5 8.5l.94-2.06 2.06-.94-2.06-.94L8.5 2.5l-.94 2.06-2.06.94zm10 10l.94 2.06.94-2.06 2.06-.94-2.06-.94-.94-2.06-.94 2.06-2.06.94z\"/><path d=\"M17.41 7.96l-1.37-1.37c-.4-.4-.92-.59-1.43-.59-.52 0-1.04.2-1.43.59L10.3 9.45l-7.72 7.72c-.78.78-.78 2.05 0 2.83L4 21.41c.39.39.9.59 1.41.59.51 0 1.02-.2 1.41-.59l7.78-7.78 2.81-2.81c.8-.78.8-2.07 0-2.86zM5.41 20L4 18.59l7.72-7.72 1.47 1.35L5.41 20z\"/>\n",
              "  </svg>\n",
              "      </button>\n",
              "      \n",
              "  <style>\n",
              "    .colab-df-container {\n",
              "      display:flex;\n",
              "      flex-wrap:wrap;\n",
              "      gap: 12px;\n",
              "    }\n",
              "\n",
              "    .colab-df-convert {\n",
              "      background-color: #E8F0FE;\n",
              "      border: none;\n",
              "      border-radius: 50%;\n",
              "      cursor: pointer;\n",
              "      display: none;\n",
              "      fill: #1967D2;\n",
              "      height: 32px;\n",
              "      padding: 0 0 0 0;\n",
              "      width: 32px;\n",
              "    }\n",
              "\n",
              "    .colab-df-convert:hover {\n",
              "      background-color: #E2EBFA;\n",
              "      box-shadow: 0px 1px 2px rgba(60, 64, 67, 0.3), 0px 1px 3px 1px rgba(60, 64, 67, 0.15);\n",
              "      fill: #174EA6;\n",
              "    }\n",
              "\n",
              "    [theme=dark] .colab-df-convert {\n",
              "      background-color: #3B4455;\n",
              "      fill: #D2E3FC;\n",
              "    }\n",
              "\n",
              "    [theme=dark] .colab-df-convert:hover {\n",
              "      background-color: #434B5C;\n",
              "      box-shadow: 0px 1px 3px 1px rgba(0, 0, 0, 0.15);\n",
              "      filter: drop-shadow(0px 1px 2px rgba(0, 0, 0, 0.3));\n",
              "      fill: #FFFFFF;\n",
              "    }\n",
              "  </style>\n",
              "\n",
              "      <script>\n",
              "        const buttonEl =\n",
              "          document.querySelector('#df-86465b4e-f164-4137-b147-c3b282df2aa0 button.colab-df-convert');\n",
              "        buttonEl.style.display =\n",
              "          google.colab.kernel.accessAllowed ? 'block' : 'none';\n",
              "\n",
              "        async function convertToInteractive(key) {\n",
              "          const element = document.querySelector('#df-86465b4e-f164-4137-b147-c3b282df2aa0');\n",
              "          const dataTable =\n",
              "            await google.colab.kernel.invokeFunction('convertToInteractive',\n",
              "                                                     [key], {});\n",
              "          if (!dataTable) return;\n",
              "\n",
              "          const docLinkHtml = 'Like what you see? Visit the ' +\n",
              "            '<a target=\"_blank\" href=https://colab.research.google.com/notebooks/data_table.ipynb>data table notebook</a>'\n",
              "            + ' to learn more about interactive tables.';\n",
              "          element.innerHTML = '';\n",
              "          dataTable['output_type'] = 'display_data';\n",
              "          await google.colab.output.renderOutput(dataTable, element);\n",
              "          const docLink = document.createElement('div');\n",
              "          docLink.innerHTML = docLinkHtml;\n",
              "          element.appendChild(docLink);\n",
              "        }\n",
              "      </script>\n",
              "    </div>\n",
              "  </div>\n",
              "  "
            ]
          },
          "metadata": {},
          "execution_count": 2
        }
      ]
    },
    {
      "cell_type": "markdown",
      "source": [
        "## **2. Memilih data dengan pivot**"
      ],
      "metadata": {
        "id": "XzDdcvJoEffb"
      }
    },
    {
      "cell_type": "code",
      "source": [
        "# Menambahkan kolom baru\n",
        "table = pd.pivot_table(df_raw,\n",
        "                       index=[\"Nomor Produk\"],\n",
        "                       values=[\"Volume Penjualan\",\"Nomer Transaksi\"],\n",
        "                       aggfunc= [\"sum\",\"count\"]\n",
        ")\n",
        "table"
      ],
      "metadata": {
        "colab": {
          "base_uri": "https://localhost:8080/",
          "height": 486
        },
        "id": "JwQVpsyN1BBD",
        "outputId": "a38afcd8-7485-4e63-f69e-f6ff4d63fcf4"
      },
      "execution_count": 3,
      "outputs": [
        {
          "output_type": "execute_result",
          "data": {
            "text/plain": [
              "                                     sum                            count  \\\n",
              "                         Nomer Transaksi Volume Penjualan Nomer Transaksi   \n",
              "Nomor Produk                                                                \n",
              "1729383505215391564     9463465835052543               32              32   \n",
              "1729383505215457100  5767343042792614774               11              10   \n",
              "1729383505215522636  2306562702833164874                4               4   \n",
              "1729383505215588172 -3451634625379959528               26              26   \n",
              "1729383514305627980  1152985754002920640                2               2   \n",
              "...                                  ...              ...             ...   \n",
              "1729576173693668172   576880601546131694                1               1   \n",
              "1729577164510956364  1153805801616905195                2               2   \n",
              "1729577227370793804   576889491162368238                1               1   \n",
              "1729577388495040000   576907141845649498                1               1   \n",
              "1729577624722836300   576892824018652153                1               1   \n",
              "\n",
              "                                      \n",
              "                    Volume Penjualan  \n",
              "Nomor Produk                          \n",
              "1729383505215391564               32  \n",
              "1729383505215457100               10  \n",
              "1729383505215522636                4  \n",
              "1729383505215588172               26  \n",
              "1729383514305627980                2  \n",
              "...                              ...  \n",
              "1729576173693668172                1  \n",
              "1729577164510956364                2  \n",
              "1729577227370793804                1  \n",
              "1729577388495040000                1  \n",
              "1729577624722836300                1  \n",
              "\n",
              "[921 rows x 4 columns]"
            ],
            "text/html": [
              "\n",
              "  <div id=\"df-b01de0fa-006f-49c2-bfd5-4e66d8b84347\">\n",
              "    <div class=\"colab-df-container\">\n",
              "      <div>\n",
              "<style scoped>\n",
              "    .dataframe tbody tr th:only-of-type {\n",
              "        vertical-align: middle;\n",
              "    }\n",
              "\n",
              "    .dataframe tbody tr th {\n",
              "        vertical-align: top;\n",
              "    }\n",
              "\n",
              "    .dataframe thead tr th {\n",
              "        text-align: left;\n",
              "    }\n",
              "\n",
              "    .dataframe thead tr:last-of-type th {\n",
              "        text-align: right;\n",
              "    }\n",
              "</style>\n",
              "<table border=\"1\" class=\"dataframe\">\n",
              "  <thead>\n",
              "    <tr>\n",
              "      <th></th>\n",
              "      <th colspan=\"2\" halign=\"left\">sum</th>\n",
              "      <th colspan=\"2\" halign=\"left\">count</th>\n",
              "    </tr>\n",
              "    <tr>\n",
              "      <th></th>\n",
              "      <th>Nomer Transaksi</th>\n",
              "      <th>Volume Penjualan</th>\n",
              "      <th>Nomer Transaksi</th>\n",
              "      <th>Volume Penjualan</th>\n",
              "    </tr>\n",
              "    <tr>\n",
              "      <th>Nomor Produk</th>\n",
              "      <th></th>\n",
              "      <th></th>\n",
              "      <th></th>\n",
              "      <th></th>\n",
              "    </tr>\n",
              "  </thead>\n",
              "  <tbody>\n",
              "    <tr>\n",
              "      <th>1729383505215391564</th>\n",
              "      <td>9463465835052543</td>\n",
              "      <td>32</td>\n",
              "      <td>32</td>\n",
              "      <td>32</td>\n",
              "    </tr>\n",
              "    <tr>\n",
              "      <th>1729383505215457100</th>\n",
              "      <td>5767343042792614774</td>\n",
              "      <td>11</td>\n",
              "      <td>10</td>\n",
              "      <td>10</td>\n",
              "    </tr>\n",
              "    <tr>\n",
              "      <th>1729383505215522636</th>\n",
              "      <td>2306562702833164874</td>\n",
              "      <td>4</td>\n",
              "      <td>4</td>\n",
              "      <td>4</td>\n",
              "    </tr>\n",
              "    <tr>\n",
              "      <th>1729383505215588172</th>\n",
              "      <td>-3451634625379959528</td>\n",
              "      <td>26</td>\n",
              "      <td>26</td>\n",
              "      <td>26</td>\n",
              "    </tr>\n",
              "    <tr>\n",
              "      <th>1729383514305627980</th>\n",
              "      <td>1152985754002920640</td>\n",
              "      <td>2</td>\n",
              "      <td>2</td>\n",
              "      <td>2</td>\n",
              "    </tr>\n",
              "    <tr>\n",
              "      <th>...</th>\n",
              "      <td>...</td>\n",
              "      <td>...</td>\n",
              "      <td>...</td>\n",
              "      <td>...</td>\n",
              "    </tr>\n",
              "    <tr>\n",
              "      <th>1729576173693668172</th>\n",
              "      <td>576880601546131694</td>\n",
              "      <td>1</td>\n",
              "      <td>1</td>\n",
              "      <td>1</td>\n",
              "    </tr>\n",
              "    <tr>\n",
              "      <th>1729577164510956364</th>\n",
              "      <td>1153805801616905195</td>\n",
              "      <td>2</td>\n",
              "      <td>2</td>\n",
              "      <td>2</td>\n",
              "    </tr>\n",
              "    <tr>\n",
              "      <th>1729577227370793804</th>\n",
              "      <td>576889491162368238</td>\n",
              "      <td>1</td>\n",
              "      <td>1</td>\n",
              "      <td>1</td>\n",
              "    </tr>\n",
              "    <tr>\n",
              "      <th>1729577388495040000</th>\n",
              "      <td>576907141845649498</td>\n",
              "      <td>1</td>\n",
              "      <td>1</td>\n",
              "      <td>1</td>\n",
              "    </tr>\n",
              "    <tr>\n",
              "      <th>1729577624722836300</th>\n",
              "      <td>576892824018652153</td>\n",
              "      <td>1</td>\n",
              "      <td>1</td>\n",
              "      <td>1</td>\n",
              "    </tr>\n",
              "  </tbody>\n",
              "</table>\n",
              "<p>921 rows × 4 columns</p>\n",
              "</div>\n",
              "      <button class=\"colab-df-convert\" onclick=\"convertToInteractive('df-b01de0fa-006f-49c2-bfd5-4e66d8b84347')\"\n",
              "              title=\"Convert this dataframe to an interactive table.\"\n",
              "              style=\"display:none;\">\n",
              "        \n",
              "  <svg xmlns=\"http://www.w3.org/2000/svg\" height=\"24px\"viewBox=\"0 0 24 24\"\n",
              "       width=\"24px\">\n",
              "    <path d=\"M0 0h24v24H0V0z\" fill=\"none\"/>\n",
              "    <path d=\"M18.56 5.44l.94 2.06.94-2.06 2.06-.94-2.06-.94-.94-2.06-.94 2.06-2.06.94zm-11 1L8.5 8.5l.94-2.06 2.06-.94-2.06-.94L8.5 2.5l-.94 2.06-2.06.94zm10 10l.94 2.06.94-2.06 2.06-.94-2.06-.94-.94-2.06-.94 2.06-2.06.94z\"/><path d=\"M17.41 7.96l-1.37-1.37c-.4-.4-.92-.59-1.43-.59-.52 0-1.04.2-1.43.59L10.3 9.45l-7.72 7.72c-.78.78-.78 2.05 0 2.83L4 21.41c.39.39.9.59 1.41.59.51 0 1.02-.2 1.41-.59l7.78-7.78 2.81-2.81c.8-.78.8-2.07 0-2.86zM5.41 20L4 18.59l7.72-7.72 1.47 1.35L5.41 20z\"/>\n",
              "  </svg>\n",
              "      </button>\n",
              "      \n",
              "  <style>\n",
              "    .colab-df-container {\n",
              "      display:flex;\n",
              "      flex-wrap:wrap;\n",
              "      gap: 12px;\n",
              "    }\n",
              "\n",
              "    .colab-df-convert {\n",
              "      background-color: #E8F0FE;\n",
              "      border: none;\n",
              "      border-radius: 50%;\n",
              "      cursor: pointer;\n",
              "      display: none;\n",
              "      fill: #1967D2;\n",
              "      height: 32px;\n",
              "      padding: 0 0 0 0;\n",
              "      width: 32px;\n",
              "    }\n",
              "\n",
              "    .colab-df-convert:hover {\n",
              "      background-color: #E2EBFA;\n",
              "      box-shadow: 0px 1px 2px rgba(60, 64, 67, 0.3), 0px 1px 3px 1px rgba(60, 64, 67, 0.15);\n",
              "      fill: #174EA6;\n",
              "    }\n",
              "\n",
              "    [theme=dark] .colab-df-convert {\n",
              "      background-color: #3B4455;\n",
              "      fill: #D2E3FC;\n",
              "    }\n",
              "\n",
              "    [theme=dark] .colab-df-convert:hover {\n",
              "      background-color: #434B5C;\n",
              "      box-shadow: 0px 1px 3px 1px rgba(0, 0, 0, 0.15);\n",
              "      filter: drop-shadow(0px 1px 2px rgba(0, 0, 0, 0.3));\n",
              "      fill: #FFFFFF;\n",
              "    }\n",
              "  </style>\n",
              "\n",
              "      <script>\n",
              "        const buttonEl =\n",
              "          document.querySelector('#df-b01de0fa-006f-49c2-bfd5-4e66d8b84347 button.colab-df-convert');\n",
              "        buttonEl.style.display =\n",
              "          google.colab.kernel.accessAllowed ? 'block' : 'none';\n",
              "\n",
              "        async function convertToInteractive(key) {\n",
              "          const element = document.querySelector('#df-b01de0fa-006f-49c2-bfd5-4e66d8b84347');\n",
              "          const dataTable =\n",
              "            await google.colab.kernel.invokeFunction('convertToInteractive',\n",
              "                                                     [key], {});\n",
              "          if (!dataTable) return;\n",
              "\n",
              "          const docLinkHtml = 'Like what you see? Visit the ' +\n",
              "            '<a target=\"_blank\" href=https://colab.research.google.com/notebooks/data_table.ipynb>data table notebook</a>'\n",
              "            + ' to learn more about interactive tables.';\n",
              "          element.innerHTML = '';\n",
              "          dataTable['output_type'] = 'display_data';\n",
              "          await google.colab.output.renderOutput(dataTable, element);\n",
              "          const docLink = document.createElement('div');\n",
              "          docLink.innerHTML = docLinkHtml;\n",
              "          element.appendChild(docLink);\n",
              "        }\n",
              "      </script>\n",
              "    </div>\n",
              "  </div>\n",
              "  "
            ]
          },
          "metadata": {},
          "execution_count": 3
        }
      ]
    },
    {
      "cell_type": "code",
      "source": [
        "# Menambah kolom baru\n",
        "table = table.reset_index()\n",
        "table"
      ],
      "metadata": {
        "colab": {
          "base_uri": "https://localhost:8080/",
          "height": 455
        },
        "id": "U9txAhTAxSJa",
        "outputId": "c1003601-fd81-4c55-bd26-61cb45256b39"
      },
      "execution_count": 4,
      "outputs": [
        {
          "output_type": "execute_result",
          "data": {
            "text/plain": [
              "            Nomor Produk                  sum                   \\\n",
              "                              Nomer Transaksi Volume Penjualan   \n",
              "0    1729383505215391564     9463465835052543               32   \n",
              "1    1729383505215457100  5767343042792614774               11   \n",
              "2    1729383505215522636  2306562702833164874                4   \n",
              "3    1729383505215588172 -3451634625379959528               26   \n",
              "4    1729383514305627980  1152985754002920640                2   \n",
              "..                   ...                  ...              ...   \n",
              "916  1729576173693668172   576880601546131694                1   \n",
              "917  1729577164510956364  1153805801616905195                2   \n",
              "918  1729577227370793804   576889491162368238                1   \n",
              "919  1729577388495040000   576907141845649498                1   \n",
              "920  1729577624722836300   576892824018652153                1   \n",
              "\n",
              "              count                   \n",
              "    Nomer Transaksi Volume Penjualan  \n",
              "0                32               32  \n",
              "1                10               10  \n",
              "2                 4                4  \n",
              "3                26               26  \n",
              "4                 2                2  \n",
              "..              ...              ...  \n",
              "916               1                1  \n",
              "917               2                2  \n",
              "918               1                1  \n",
              "919               1                1  \n",
              "920               1                1  \n",
              "\n",
              "[921 rows x 5 columns]"
            ],
            "text/html": [
              "\n",
              "  <div id=\"df-7ac135e7-e45b-4aa5-86c0-918dda3651fc\">\n",
              "    <div class=\"colab-df-container\">\n",
              "      <div>\n",
              "<style scoped>\n",
              "    .dataframe tbody tr th:only-of-type {\n",
              "        vertical-align: middle;\n",
              "    }\n",
              "\n",
              "    .dataframe tbody tr th {\n",
              "        vertical-align: top;\n",
              "    }\n",
              "\n",
              "    .dataframe thead tr th {\n",
              "        text-align: left;\n",
              "    }\n",
              "</style>\n",
              "<table border=\"1\" class=\"dataframe\">\n",
              "  <thead>\n",
              "    <tr>\n",
              "      <th></th>\n",
              "      <th>Nomor Produk</th>\n",
              "      <th colspan=\"2\" halign=\"left\">sum</th>\n",
              "      <th colspan=\"2\" halign=\"left\">count</th>\n",
              "    </tr>\n",
              "    <tr>\n",
              "      <th></th>\n",
              "      <th></th>\n",
              "      <th>Nomer Transaksi</th>\n",
              "      <th>Volume Penjualan</th>\n",
              "      <th>Nomer Transaksi</th>\n",
              "      <th>Volume Penjualan</th>\n",
              "    </tr>\n",
              "  </thead>\n",
              "  <tbody>\n",
              "    <tr>\n",
              "      <th>0</th>\n",
              "      <td>1729383505215391564</td>\n",
              "      <td>9463465835052543</td>\n",
              "      <td>32</td>\n",
              "      <td>32</td>\n",
              "      <td>32</td>\n",
              "    </tr>\n",
              "    <tr>\n",
              "      <th>1</th>\n",
              "      <td>1729383505215457100</td>\n",
              "      <td>5767343042792614774</td>\n",
              "      <td>11</td>\n",
              "      <td>10</td>\n",
              "      <td>10</td>\n",
              "    </tr>\n",
              "    <tr>\n",
              "      <th>2</th>\n",
              "      <td>1729383505215522636</td>\n",
              "      <td>2306562702833164874</td>\n",
              "      <td>4</td>\n",
              "      <td>4</td>\n",
              "      <td>4</td>\n",
              "    </tr>\n",
              "    <tr>\n",
              "      <th>3</th>\n",
              "      <td>1729383505215588172</td>\n",
              "      <td>-3451634625379959528</td>\n",
              "      <td>26</td>\n",
              "      <td>26</td>\n",
              "      <td>26</td>\n",
              "    </tr>\n",
              "    <tr>\n",
              "      <th>4</th>\n",
              "      <td>1729383514305627980</td>\n",
              "      <td>1152985754002920640</td>\n",
              "      <td>2</td>\n",
              "      <td>2</td>\n",
              "      <td>2</td>\n",
              "    </tr>\n",
              "    <tr>\n",
              "      <th>...</th>\n",
              "      <td>...</td>\n",
              "      <td>...</td>\n",
              "      <td>...</td>\n",
              "      <td>...</td>\n",
              "      <td>...</td>\n",
              "    </tr>\n",
              "    <tr>\n",
              "      <th>916</th>\n",
              "      <td>1729576173693668172</td>\n",
              "      <td>576880601546131694</td>\n",
              "      <td>1</td>\n",
              "      <td>1</td>\n",
              "      <td>1</td>\n",
              "    </tr>\n",
              "    <tr>\n",
              "      <th>917</th>\n",
              "      <td>1729577164510956364</td>\n",
              "      <td>1153805801616905195</td>\n",
              "      <td>2</td>\n",
              "      <td>2</td>\n",
              "      <td>2</td>\n",
              "    </tr>\n",
              "    <tr>\n",
              "      <th>918</th>\n",
              "      <td>1729577227370793804</td>\n",
              "      <td>576889491162368238</td>\n",
              "      <td>1</td>\n",
              "      <td>1</td>\n",
              "      <td>1</td>\n",
              "    </tr>\n",
              "    <tr>\n",
              "      <th>919</th>\n",
              "      <td>1729577388495040000</td>\n",
              "      <td>576907141845649498</td>\n",
              "      <td>1</td>\n",
              "      <td>1</td>\n",
              "      <td>1</td>\n",
              "    </tr>\n",
              "    <tr>\n",
              "      <th>920</th>\n",
              "      <td>1729577624722836300</td>\n",
              "      <td>576892824018652153</td>\n",
              "      <td>1</td>\n",
              "      <td>1</td>\n",
              "      <td>1</td>\n",
              "    </tr>\n",
              "  </tbody>\n",
              "</table>\n",
              "<p>921 rows × 5 columns</p>\n",
              "</div>\n",
              "      <button class=\"colab-df-convert\" onclick=\"convertToInteractive('df-7ac135e7-e45b-4aa5-86c0-918dda3651fc')\"\n",
              "              title=\"Convert this dataframe to an interactive table.\"\n",
              "              style=\"display:none;\">\n",
              "        \n",
              "  <svg xmlns=\"http://www.w3.org/2000/svg\" height=\"24px\"viewBox=\"0 0 24 24\"\n",
              "       width=\"24px\">\n",
              "    <path d=\"M0 0h24v24H0V0z\" fill=\"none\"/>\n",
              "    <path d=\"M18.56 5.44l.94 2.06.94-2.06 2.06-.94-2.06-.94-.94-2.06-.94 2.06-2.06.94zm-11 1L8.5 8.5l.94-2.06 2.06-.94-2.06-.94L8.5 2.5l-.94 2.06-2.06.94zm10 10l.94 2.06.94-2.06 2.06-.94-2.06-.94-.94-2.06-.94 2.06-2.06.94z\"/><path d=\"M17.41 7.96l-1.37-1.37c-.4-.4-.92-.59-1.43-.59-.52 0-1.04.2-1.43.59L10.3 9.45l-7.72 7.72c-.78.78-.78 2.05 0 2.83L4 21.41c.39.39.9.59 1.41.59.51 0 1.02-.2 1.41-.59l7.78-7.78 2.81-2.81c.8-.78.8-2.07 0-2.86zM5.41 20L4 18.59l7.72-7.72 1.47 1.35L5.41 20z\"/>\n",
              "  </svg>\n",
              "      </button>\n",
              "      \n",
              "  <style>\n",
              "    .colab-df-container {\n",
              "      display:flex;\n",
              "      flex-wrap:wrap;\n",
              "      gap: 12px;\n",
              "    }\n",
              "\n",
              "    .colab-df-convert {\n",
              "      background-color: #E8F0FE;\n",
              "      border: none;\n",
              "      border-radius: 50%;\n",
              "      cursor: pointer;\n",
              "      display: none;\n",
              "      fill: #1967D2;\n",
              "      height: 32px;\n",
              "      padding: 0 0 0 0;\n",
              "      width: 32px;\n",
              "    }\n",
              "\n",
              "    .colab-df-convert:hover {\n",
              "      background-color: #E2EBFA;\n",
              "      box-shadow: 0px 1px 2px rgba(60, 64, 67, 0.3), 0px 1px 3px 1px rgba(60, 64, 67, 0.15);\n",
              "      fill: #174EA6;\n",
              "    }\n",
              "\n",
              "    [theme=dark] .colab-df-convert {\n",
              "      background-color: #3B4455;\n",
              "      fill: #D2E3FC;\n",
              "    }\n",
              "\n",
              "    [theme=dark] .colab-df-convert:hover {\n",
              "      background-color: #434B5C;\n",
              "      box-shadow: 0px 1px 3px 1px rgba(0, 0, 0, 0.15);\n",
              "      filter: drop-shadow(0px 1px 2px rgba(0, 0, 0, 0.3));\n",
              "      fill: #FFFFFF;\n",
              "    }\n",
              "  </style>\n",
              "\n",
              "      <script>\n",
              "        const buttonEl =\n",
              "          document.querySelector('#df-7ac135e7-e45b-4aa5-86c0-918dda3651fc button.colab-df-convert');\n",
              "        buttonEl.style.display =\n",
              "          google.colab.kernel.accessAllowed ? 'block' : 'none';\n",
              "\n",
              "        async function convertToInteractive(key) {\n",
              "          const element = document.querySelector('#df-7ac135e7-e45b-4aa5-86c0-918dda3651fc');\n",
              "          const dataTable =\n",
              "            await google.colab.kernel.invokeFunction('convertToInteractive',\n",
              "                                                     [key], {});\n",
              "          if (!dataTable) return;\n",
              "\n",
              "          const docLinkHtml = 'Like what you see? Visit the ' +\n",
              "            '<a target=\"_blank\" href=https://colab.research.google.com/notebooks/data_table.ipynb>data table notebook</a>'\n",
              "            + ' to learn more about interactive tables.';\n",
              "          element.innerHTML = '';\n",
              "          dataTable['output_type'] = 'display_data';\n",
              "          await google.colab.output.renderOutput(dataTable, element);\n",
              "          const docLink = document.createElement('div');\n",
              "          docLink.innerHTML = docLinkHtml;\n",
              "          element.appendChild(docLink);\n",
              "        }\n",
              "      </script>\n",
              "    </div>\n",
              "  </div>\n",
              "  "
            ]
          },
          "metadata": {},
          "execution_count": 4
        }
      ]
    },
    {
      "cell_type": "code",
      "source": [
        "#cek nama kolom\n",
        "table.columns"
      ],
      "metadata": {
        "colab": {
          "base_uri": "https://localhost:8080/"
        },
        "id": "7oIEuqdw1WEm",
        "outputId": "6d961731-a49b-48ac-f9e7-e13bf88bc425"
      },
      "execution_count": 5,
      "outputs": [
        {
          "output_type": "execute_result",
          "data": {
            "text/plain": [
              "MultiIndex([('Nomor Produk',                 ''),\n",
              "            (         'sum',  'Nomer Transaksi'),\n",
              "            (         'sum', 'Volume Penjualan'),\n",
              "            (       'count',  'Nomer Transaksi'),\n",
              "            (       'count', 'Volume Penjualan')],\n",
              "           )"
            ]
          },
          "metadata": {},
          "execution_count": 5
        }
      ]
    },
    {
      "cell_type": "markdown",
      "source": [
        "# **Tahapan Persiapan Data**\n",
        "\n",
        "\n"
      ],
      "metadata": {
        "id": "ZQvwg_FsG_m3"
      }
    },
    {
      "cell_type": "markdown",
      "source": [
        "## **1. Menentukan Atribut**"
      ],
      "metadata": {
        "id": "GhfqtW9UIDsS"
      }
    },
    {
      "cell_type": "code",
      "source": [
        "#membuat data frame \n",
        "df = pd.DataFrame()\n",
        "df['Nomor Produk'] = table[('Nomor Produk', '')]\n",
        "df['Volume Penjualan'] = table[('sum', 'Volume Penjualan')]\n",
        "df['Jumlah Transaksi'] = table[('count', 'Nomer Transaksi')]\n",
        "df"
      ],
      "metadata": {
        "colab": {
          "base_uri": "https://localhost:8080/",
          "height": 424
        },
        "id": "BLlGphf1oiRE",
        "outputId": "7bfdf969-05eb-48a2-ab54-46d8ad04e413"
      },
      "execution_count": 6,
      "outputs": [
        {
          "output_type": "execute_result",
          "data": {
            "text/plain": [
              "            Nomor Produk  Volume Penjualan  Jumlah Transaksi\n",
              "0    1729383505215391564                32                32\n",
              "1    1729383505215457100                11                10\n",
              "2    1729383505215522636                 4                 4\n",
              "3    1729383505215588172                26                26\n",
              "4    1729383514305627980                 2                 2\n",
              "..                   ...               ...               ...\n",
              "916  1729576173693668172                 1                 1\n",
              "917  1729577164510956364                 2                 2\n",
              "918  1729577227370793804                 1                 1\n",
              "919  1729577388495040000                 1                 1\n",
              "920  1729577624722836300                 1                 1\n",
              "\n",
              "[921 rows x 3 columns]"
            ],
            "text/html": [
              "\n",
              "  <div id=\"df-17d47a19-f943-4e75-ae73-85096d8d47fc\">\n",
              "    <div class=\"colab-df-container\">\n",
              "      <div>\n",
              "<style scoped>\n",
              "    .dataframe tbody tr th:only-of-type {\n",
              "        vertical-align: middle;\n",
              "    }\n",
              "\n",
              "    .dataframe tbody tr th {\n",
              "        vertical-align: top;\n",
              "    }\n",
              "\n",
              "    .dataframe thead th {\n",
              "        text-align: right;\n",
              "    }\n",
              "</style>\n",
              "<table border=\"1\" class=\"dataframe\">\n",
              "  <thead>\n",
              "    <tr style=\"text-align: right;\">\n",
              "      <th></th>\n",
              "      <th>Nomor Produk</th>\n",
              "      <th>Volume Penjualan</th>\n",
              "      <th>Jumlah Transaksi</th>\n",
              "    </tr>\n",
              "  </thead>\n",
              "  <tbody>\n",
              "    <tr>\n",
              "      <th>0</th>\n",
              "      <td>1729383505215391564</td>\n",
              "      <td>32</td>\n",
              "      <td>32</td>\n",
              "    </tr>\n",
              "    <tr>\n",
              "      <th>1</th>\n",
              "      <td>1729383505215457100</td>\n",
              "      <td>11</td>\n",
              "      <td>10</td>\n",
              "    </tr>\n",
              "    <tr>\n",
              "      <th>2</th>\n",
              "      <td>1729383505215522636</td>\n",
              "      <td>4</td>\n",
              "      <td>4</td>\n",
              "    </tr>\n",
              "    <tr>\n",
              "      <th>3</th>\n",
              "      <td>1729383505215588172</td>\n",
              "      <td>26</td>\n",
              "      <td>26</td>\n",
              "    </tr>\n",
              "    <tr>\n",
              "      <th>4</th>\n",
              "      <td>1729383514305627980</td>\n",
              "      <td>2</td>\n",
              "      <td>2</td>\n",
              "    </tr>\n",
              "    <tr>\n",
              "      <th>...</th>\n",
              "      <td>...</td>\n",
              "      <td>...</td>\n",
              "      <td>...</td>\n",
              "    </tr>\n",
              "    <tr>\n",
              "      <th>916</th>\n",
              "      <td>1729576173693668172</td>\n",
              "      <td>1</td>\n",
              "      <td>1</td>\n",
              "    </tr>\n",
              "    <tr>\n",
              "      <th>917</th>\n",
              "      <td>1729577164510956364</td>\n",
              "      <td>2</td>\n",
              "      <td>2</td>\n",
              "    </tr>\n",
              "    <tr>\n",
              "      <th>918</th>\n",
              "      <td>1729577227370793804</td>\n",
              "      <td>1</td>\n",
              "      <td>1</td>\n",
              "    </tr>\n",
              "    <tr>\n",
              "      <th>919</th>\n",
              "      <td>1729577388495040000</td>\n",
              "      <td>1</td>\n",
              "      <td>1</td>\n",
              "    </tr>\n",
              "    <tr>\n",
              "      <th>920</th>\n",
              "      <td>1729577624722836300</td>\n",
              "      <td>1</td>\n",
              "      <td>1</td>\n",
              "    </tr>\n",
              "  </tbody>\n",
              "</table>\n",
              "<p>921 rows × 3 columns</p>\n",
              "</div>\n",
              "      <button class=\"colab-df-convert\" onclick=\"convertToInteractive('df-17d47a19-f943-4e75-ae73-85096d8d47fc')\"\n",
              "              title=\"Convert this dataframe to an interactive table.\"\n",
              "              style=\"display:none;\">\n",
              "        \n",
              "  <svg xmlns=\"http://www.w3.org/2000/svg\" height=\"24px\"viewBox=\"0 0 24 24\"\n",
              "       width=\"24px\">\n",
              "    <path d=\"M0 0h24v24H0V0z\" fill=\"none\"/>\n",
              "    <path d=\"M18.56 5.44l.94 2.06.94-2.06 2.06-.94-2.06-.94-.94-2.06-.94 2.06-2.06.94zm-11 1L8.5 8.5l.94-2.06 2.06-.94-2.06-.94L8.5 2.5l-.94 2.06-2.06.94zm10 10l.94 2.06.94-2.06 2.06-.94-2.06-.94-.94-2.06-.94 2.06-2.06.94z\"/><path d=\"M17.41 7.96l-1.37-1.37c-.4-.4-.92-.59-1.43-.59-.52 0-1.04.2-1.43.59L10.3 9.45l-7.72 7.72c-.78.78-.78 2.05 0 2.83L4 21.41c.39.39.9.59 1.41.59.51 0 1.02-.2 1.41-.59l7.78-7.78 2.81-2.81c.8-.78.8-2.07 0-2.86zM5.41 20L4 18.59l7.72-7.72 1.47 1.35L5.41 20z\"/>\n",
              "  </svg>\n",
              "      </button>\n",
              "      \n",
              "  <style>\n",
              "    .colab-df-container {\n",
              "      display:flex;\n",
              "      flex-wrap:wrap;\n",
              "      gap: 12px;\n",
              "    }\n",
              "\n",
              "    .colab-df-convert {\n",
              "      background-color: #E8F0FE;\n",
              "      border: none;\n",
              "      border-radius: 50%;\n",
              "      cursor: pointer;\n",
              "      display: none;\n",
              "      fill: #1967D2;\n",
              "      height: 32px;\n",
              "      padding: 0 0 0 0;\n",
              "      width: 32px;\n",
              "    }\n",
              "\n",
              "    .colab-df-convert:hover {\n",
              "      background-color: #E2EBFA;\n",
              "      box-shadow: 0px 1px 2px rgba(60, 64, 67, 0.3), 0px 1px 3px 1px rgba(60, 64, 67, 0.15);\n",
              "      fill: #174EA6;\n",
              "    }\n",
              "\n",
              "    [theme=dark] .colab-df-convert {\n",
              "      background-color: #3B4455;\n",
              "      fill: #D2E3FC;\n",
              "    }\n",
              "\n",
              "    [theme=dark] .colab-df-convert:hover {\n",
              "      background-color: #434B5C;\n",
              "      box-shadow: 0px 1px 3px 1px rgba(0, 0, 0, 0.15);\n",
              "      filter: drop-shadow(0px 1px 2px rgba(0, 0, 0, 0.3));\n",
              "      fill: #FFFFFF;\n",
              "    }\n",
              "  </style>\n",
              "\n",
              "      <script>\n",
              "        const buttonEl =\n",
              "          document.querySelector('#df-17d47a19-f943-4e75-ae73-85096d8d47fc button.colab-df-convert');\n",
              "        buttonEl.style.display =\n",
              "          google.colab.kernel.accessAllowed ? 'block' : 'none';\n",
              "\n",
              "        async function convertToInteractive(key) {\n",
              "          const element = document.querySelector('#df-17d47a19-f943-4e75-ae73-85096d8d47fc');\n",
              "          const dataTable =\n",
              "            await google.colab.kernel.invokeFunction('convertToInteractive',\n",
              "                                                     [key], {});\n",
              "          if (!dataTable) return;\n",
              "\n",
              "          const docLinkHtml = 'Like what you see? Visit the ' +\n",
              "            '<a target=\"_blank\" href=https://colab.research.google.com/notebooks/data_table.ipynb>data table notebook</a>'\n",
              "            + ' to learn more about interactive tables.';\n",
              "          element.innerHTML = '';\n",
              "          dataTable['output_type'] = 'display_data';\n",
              "          await google.colab.output.renderOutput(dataTable, element);\n",
              "          const docLink = document.createElement('div');\n",
              "          docLink.innerHTML = docLinkHtml;\n",
              "          element.appendChild(docLink);\n",
              "        }\n",
              "      </script>\n",
              "    </div>\n",
              "  </div>\n",
              "  "
            ]
          },
          "metadata": {},
          "execution_count": 6
        }
      ]
    },
    {
      "cell_type": "markdown",
      "source": [
        "## **2. Membersihkan Data**"
      ],
      "metadata": {
        "id": "x9kJaRu9IUbZ"
      }
    },
    {
      "cell_type": "markdown",
      "source": [
        "### **A. Cek Data Kosong**"
      ],
      "metadata": {
        "id": "XjByD9AGIlmd"
      }
    },
    {
      "cell_type": "code",
      "source": [
        "# cek data null\n",
        "df.isnull().sum()"
      ],
      "metadata": {
        "colab": {
          "base_uri": "https://localhost:8080/"
        },
        "id": "SSC31jpQI5i3",
        "outputId": "e04efa10-f8d9-42ea-d0cf-5fdd0e71313f"
      },
      "execution_count": 7,
      "outputs": [
        {
          "output_type": "execute_result",
          "data": {
            "text/plain": [
              "Nomor Produk        0\n",
              "Volume Penjualan    0\n",
              "Jumlah Transaksi    0\n",
              "dtype: int64"
            ]
          },
          "metadata": {},
          "execution_count": 7
        }
      ]
    },
    {
      "cell_type": "markdown",
      "source": [
        "### **B. Cek Data Duplikat**"
      ],
      "metadata": {
        "id": "YKjPw8_rIuHt"
      }
    },
    {
      "cell_type": "code",
      "source": [
        "# cek data duplikat\n",
        "df.duplicated().sum()"
      ],
      "metadata": {
        "colab": {
          "base_uri": "https://localhost:8080/"
        },
        "id": "qmB3_WfYI5_b",
        "outputId": "b237c60c-261e-44f6-b9bf-1171c345169e"
      },
      "execution_count": 8,
      "outputs": [
        {
          "output_type": "execute_result",
          "data": {
            "text/plain": [
              "0"
            ]
          },
          "metadata": {},
          "execution_count": 8
        }
      ]
    },
    {
      "cell_type": "markdown",
      "source": [
        "## **3. Menentukan nilai pada kolom rata-rata**"
      ],
      "metadata": {
        "id": "FO7E0UEFE8QZ"
      }
    },
    {
      "cell_type": "code",
      "source": [
        "#menambah tabel untuk rata-rata penjualan\n",
        "df['Rata Rata'] = round(df['Volume Penjualan'] / df['Jumlah Transaksi'])\n",
        "df['Rata Rata'] = df['Rata Rata'].astype('int')\n",
        "df"
      ],
      "metadata": {
        "colab": {
          "base_uri": "https://localhost:8080/",
          "height": 424
        },
        "id": "sOd3W7sIE9MO",
        "outputId": "0d76049f-71c1-4ee0-d749-9e2c303e3350"
      },
      "execution_count": 9,
      "outputs": [
        {
          "output_type": "execute_result",
          "data": {
            "text/plain": [
              "            Nomor Produk  Volume Penjualan  Jumlah Transaksi  Rata Rata\n",
              "0    1729383505215391564                32                32          1\n",
              "1    1729383505215457100                11                10          1\n",
              "2    1729383505215522636                 4                 4          1\n",
              "3    1729383505215588172                26                26          1\n",
              "4    1729383514305627980                 2                 2          1\n",
              "..                   ...               ...               ...        ...\n",
              "916  1729576173693668172                 1                 1          1\n",
              "917  1729577164510956364                 2                 2          1\n",
              "918  1729577227370793804                 1                 1          1\n",
              "919  1729577388495040000                 1                 1          1\n",
              "920  1729577624722836300                 1                 1          1\n",
              "\n",
              "[921 rows x 4 columns]"
            ],
            "text/html": [
              "\n",
              "  <div id=\"df-5c60b64d-55ec-49da-9de6-f0513b19e855\">\n",
              "    <div class=\"colab-df-container\">\n",
              "      <div>\n",
              "<style scoped>\n",
              "    .dataframe tbody tr th:only-of-type {\n",
              "        vertical-align: middle;\n",
              "    }\n",
              "\n",
              "    .dataframe tbody tr th {\n",
              "        vertical-align: top;\n",
              "    }\n",
              "\n",
              "    .dataframe thead th {\n",
              "        text-align: right;\n",
              "    }\n",
              "</style>\n",
              "<table border=\"1\" class=\"dataframe\">\n",
              "  <thead>\n",
              "    <tr style=\"text-align: right;\">\n",
              "      <th></th>\n",
              "      <th>Nomor Produk</th>\n",
              "      <th>Volume Penjualan</th>\n",
              "      <th>Jumlah Transaksi</th>\n",
              "      <th>Rata Rata</th>\n",
              "    </tr>\n",
              "  </thead>\n",
              "  <tbody>\n",
              "    <tr>\n",
              "      <th>0</th>\n",
              "      <td>1729383505215391564</td>\n",
              "      <td>32</td>\n",
              "      <td>32</td>\n",
              "      <td>1</td>\n",
              "    </tr>\n",
              "    <tr>\n",
              "      <th>1</th>\n",
              "      <td>1729383505215457100</td>\n",
              "      <td>11</td>\n",
              "      <td>10</td>\n",
              "      <td>1</td>\n",
              "    </tr>\n",
              "    <tr>\n",
              "      <th>2</th>\n",
              "      <td>1729383505215522636</td>\n",
              "      <td>4</td>\n",
              "      <td>4</td>\n",
              "      <td>1</td>\n",
              "    </tr>\n",
              "    <tr>\n",
              "      <th>3</th>\n",
              "      <td>1729383505215588172</td>\n",
              "      <td>26</td>\n",
              "      <td>26</td>\n",
              "      <td>1</td>\n",
              "    </tr>\n",
              "    <tr>\n",
              "      <th>4</th>\n",
              "      <td>1729383514305627980</td>\n",
              "      <td>2</td>\n",
              "      <td>2</td>\n",
              "      <td>1</td>\n",
              "    </tr>\n",
              "    <tr>\n",
              "      <th>...</th>\n",
              "      <td>...</td>\n",
              "      <td>...</td>\n",
              "      <td>...</td>\n",
              "      <td>...</td>\n",
              "    </tr>\n",
              "    <tr>\n",
              "      <th>916</th>\n",
              "      <td>1729576173693668172</td>\n",
              "      <td>1</td>\n",
              "      <td>1</td>\n",
              "      <td>1</td>\n",
              "    </tr>\n",
              "    <tr>\n",
              "      <th>917</th>\n",
              "      <td>1729577164510956364</td>\n",
              "      <td>2</td>\n",
              "      <td>2</td>\n",
              "      <td>1</td>\n",
              "    </tr>\n",
              "    <tr>\n",
              "      <th>918</th>\n",
              "      <td>1729577227370793804</td>\n",
              "      <td>1</td>\n",
              "      <td>1</td>\n",
              "      <td>1</td>\n",
              "    </tr>\n",
              "    <tr>\n",
              "      <th>919</th>\n",
              "      <td>1729577388495040000</td>\n",
              "      <td>1</td>\n",
              "      <td>1</td>\n",
              "      <td>1</td>\n",
              "    </tr>\n",
              "    <tr>\n",
              "      <th>920</th>\n",
              "      <td>1729577624722836300</td>\n",
              "      <td>1</td>\n",
              "      <td>1</td>\n",
              "      <td>1</td>\n",
              "    </tr>\n",
              "  </tbody>\n",
              "</table>\n",
              "<p>921 rows × 4 columns</p>\n",
              "</div>\n",
              "      <button class=\"colab-df-convert\" onclick=\"convertToInteractive('df-5c60b64d-55ec-49da-9de6-f0513b19e855')\"\n",
              "              title=\"Convert this dataframe to an interactive table.\"\n",
              "              style=\"display:none;\">\n",
              "        \n",
              "  <svg xmlns=\"http://www.w3.org/2000/svg\" height=\"24px\"viewBox=\"0 0 24 24\"\n",
              "       width=\"24px\">\n",
              "    <path d=\"M0 0h24v24H0V0z\" fill=\"none\"/>\n",
              "    <path d=\"M18.56 5.44l.94 2.06.94-2.06 2.06-.94-2.06-.94-.94-2.06-.94 2.06-2.06.94zm-11 1L8.5 8.5l.94-2.06 2.06-.94-2.06-.94L8.5 2.5l-.94 2.06-2.06.94zm10 10l.94 2.06.94-2.06 2.06-.94-2.06-.94-.94-2.06-.94 2.06-2.06.94z\"/><path d=\"M17.41 7.96l-1.37-1.37c-.4-.4-.92-.59-1.43-.59-.52 0-1.04.2-1.43.59L10.3 9.45l-7.72 7.72c-.78.78-.78 2.05 0 2.83L4 21.41c.39.39.9.59 1.41.59.51 0 1.02-.2 1.41-.59l7.78-7.78 2.81-2.81c.8-.78.8-2.07 0-2.86zM5.41 20L4 18.59l7.72-7.72 1.47 1.35L5.41 20z\"/>\n",
              "  </svg>\n",
              "      </button>\n",
              "      \n",
              "  <style>\n",
              "    .colab-df-container {\n",
              "      display:flex;\n",
              "      flex-wrap:wrap;\n",
              "      gap: 12px;\n",
              "    }\n",
              "\n",
              "    .colab-df-convert {\n",
              "      background-color: #E8F0FE;\n",
              "      border: none;\n",
              "      border-radius: 50%;\n",
              "      cursor: pointer;\n",
              "      display: none;\n",
              "      fill: #1967D2;\n",
              "      height: 32px;\n",
              "      padding: 0 0 0 0;\n",
              "      width: 32px;\n",
              "    }\n",
              "\n",
              "    .colab-df-convert:hover {\n",
              "      background-color: #E2EBFA;\n",
              "      box-shadow: 0px 1px 2px rgba(60, 64, 67, 0.3), 0px 1px 3px 1px rgba(60, 64, 67, 0.15);\n",
              "      fill: #174EA6;\n",
              "    }\n",
              "\n",
              "    [theme=dark] .colab-df-convert {\n",
              "      background-color: #3B4455;\n",
              "      fill: #D2E3FC;\n",
              "    }\n",
              "\n",
              "    [theme=dark] .colab-df-convert:hover {\n",
              "      background-color: #434B5C;\n",
              "      box-shadow: 0px 1px 3px 1px rgba(0, 0, 0, 0.15);\n",
              "      filter: drop-shadow(0px 1px 2px rgba(0, 0, 0, 0.3));\n",
              "      fill: #FFFFFF;\n",
              "    }\n",
              "  </style>\n",
              "\n",
              "      <script>\n",
              "        const buttonEl =\n",
              "          document.querySelector('#df-5c60b64d-55ec-49da-9de6-f0513b19e855 button.colab-df-convert');\n",
              "        buttonEl.style.display =\n",
              "          google.colab.kernel.accessAllowed ? 'block' : 'none';\n",
              "\n",
              "        async function convertToInteractive(key) {\n",
              "          const element = document.querySelector('#df-5c60b64d-55ec-49da-9de6-f0513b19e855');\n",
              "          const dataTable =\n",
              "            await google.colab.kernel.invokeFunction('convertToInteractive',\n",
              "                                                     [key], {});\n",
              "          if (!dataTable) return;\n",
              "\n",
              "          const docLinkHtml = 'Like what you see? Visit the ' +\n",
              "            '<a target=\"_blank\" href=https://colab.research.google.com/notebooks/data_table.ipynb>data table notebook</a>'\n",
              "            + ' to learn more about interactive tables.';\n",
              "          element.innerHTML = '';\n",
              "          dataTable['output_type'] = 'display_data';\n",
              "          await google.colab.output.renderOutput(dataTable, element);\n",
              "          const docLink = document.createElement('div');\n",
              "          docLink.innerHTML = docLinkHtml;\n",
              "          element.appendChild(docLink);\n",
              "        }\n",
              "      </script>\n",
              "    </div>\n",
              "  </div>\n",
              "  "
            ]
          },
          "metadata": {},
          "execution_count": 9
        }
      ]
    },
    {
      "cell_type": "code",
      "source": [],
      "metadata": {
        "id": "jLgxcdcOGGLA"
      },
      "execution_count": 9,
      "outputs": []
    },
    {
      "cell_type": "markdown",
      "source": [
        "## **4. Deteksi Outlier**"
      ],
      "metadata": {
        "id": "aBKraw3NHrRv"
      }
    },
    {
      "cell_type": "code",
      "source": [
        "# Hitung IQR untuk var1, var2, dan var3\n",
        "Q1_var1 = df['Volume Penjualan'].quantile(0.25)\n",
        "Q3_var1 = df['Volume Penjualan'].quantile(0.75)\n",
        "IQR_var1 = Q3_var1 - Q1_var1\n",
        "\n",
        "Q1_var2 = df['Jumlah Transaksi'].quantile(0.25)\n",
        "Q3_var2 = df['Jumlah Transaksi'].quantile(0.75)\n",
        "IQR_var2 = Q3_var2 - Q1_var2\n",
        "\n",
        "Q1_var3 = df['Rata Rata'].quantile(0.25)\n",
        "Q3_var3 = df['Rata Rata'].quantile(0.75)\n",
        "IQR_var3 = Q3_var3 - Q1_var3"
      ],
      "metadata": {
        "id": "PWN0DWQyF4tg"
      },
      "execution_count": 10,
      "outputs": []
    },
    {
      "cell_type": "code",
      "source": [
        "# Hitung batas bawah dan batas atas untuk var1, var2, dan var3\n",
        "lower_bound_var1 = Q1_var1 - 1.5 * IQR_var1\n",
        "upper_bound_var1 = Q3_var1 + 1.5 * IQR_var1\n",
        "\n",
        "lower_bound_var2 = Q1_var2 - 1.5 * IQR_var2\n",
        "upper_bound_var2 = Q3_var2 + 1.5 * IQR_var2\n",
        "\n",
        "lower_bound_var3 = Q1_var3 - 1.5 * IQR_var3\n",
        "upper_bound_var3 = Q3_var3 + 1.5 * IQR_var3"
      ],
      "metadata": {
        "id": "gT_uHNZuHUPB"
      },
      "execution_count": 11,
      "outputs": []
    },
    {
      "cell_type": "code",
      "source": [
        "# menampilkan plot data outlier\n",
        "plt.boxplot(df[['Jumlah Transaksi', 'Volume Penjualan']])\n",
        "plt.show()"
      ],
      "metadata": {
        "colab": {
          "base_uri": "https://localhost:8080/",
          "height": 430
        },
        "id": "V0PC5omSKzsX",
        "outputId": "5d870626-77c6-44b0-fc13-e7bb0f5a3900"
      },
      "execution_count": 12,
      "outputs": [
        {
          "output_type": "display_data",
          "data": {
            "text/plain": [
              "<Figure size 640x480 with 1 Axes>"
            ],
            "image/png": "[encoded data removed]"
          },
          "metadata": {}
        }
      ]
    },
    {
      "cell_type": "code",
      "source": [
        "#Hapus outlier\n",
        "data = df[(df['Volume Penjualan'] >= lower_bound_var1) & (df['Volume Penjualan'] <= upper_bound_var1) &\n",
        "          (df['Jumlah Transaksi'] >= lower_bound_var2) & (df['Jumlah Transaksi'] <= upper_bound_var2) &\n",
        "          (df['Rata Rata'] >= lower_bound_var3) & (df['Rata Rata'] <= upper_bound_var3)]"
      ],
      "metadata": {
        "id": "PdJ-mdW0HaNX"
      },
      "execution_count": 13,
      "outputs": []
    },
    {
      "cell_type": "code",
      "source": [
        "# data sebelum dihapus outliernya\n",
        "df.shape"
      ],
      "metadata": {
        "colab": {
          "base_uri": "https://localhost:8080/"
        },
        "id": "lIjisRsiL9gI",
        "outputId": "ced743ac-8201-4e87-ae8c-3998826717f6"
      },
      "execution_count": 14,
      "outputs": [
        {
          "output_type": "execute_result",
          "data": {
            "text/plain": [
              "(921, 4)"
            ]
          },
          "metadata": {},
          "execution_count": 14
        }
      ]
    },
    {
      "cell_type": "code",
      "source": [
        "# data sesudah dihapus outliernya\n",
        "data.shape"
      ],
      "metadata": {
        "colab": {
          "base_uri": "https://localhost:8080/"
        },
        "id": "jl77o3c4L66o",
        "outputId": "30f1304d-a176-422b-e744-baf6ecaad559"
      },
      "execution_count": 15,
      "outputs": [
        {
          "output_type": "execute_result",
          "data": {
            "text/plain": [
              "(729, 4)"
            ]
          },
          "metadata": {},
          "execution_count": 15
        }
      ]
    },
    {
      "cell_type": "markdown",
      "source": [
        "## **5. Transformasi Data (normalisasi data)**\n",
        "\n"
      ],
      "metadata": {
        "id": "Yv166CEBJC3H"
      }
    },
    {
      "cell_type": "markdown",
      "source": [
        "Standard Scaler merupakan metode preprocessing di mana metode tersebut akan melakukan standarisasi fitur dengan menghapus rata-rata dan menskalakan unit varian"
      ],
      "metadata": {
        "id": "kQ_B4BSt4JS2"
      }
    },
    {
      "cell_type": "code",
      "source": [
        "# StandardScaler\n",
        "scaler = StandardScaler()\n",
        "scaled_data = scaler.fit_transform(data)"
      ],
      "metadata": {
        "id": "h7yls2IiEcgw"
      },
      "execution_count": 16,
      "outputs": []
    },
    {
      "cell_type": "markdown",
      "source": [
        "# **Tahap Pemodelan**"
      ],
      "metadata": {
        "id": "s0og3KI9Kd2f"
      }
    },
    {
      "cell_type": "markdown",
      "source": [
        "## **1. Penentuan K dengan Elbow**"
      ],
      "metadata": {
        "id": "mq1_NHh9JVTN"
      }
    },
    {
      "cell_type": "code",
      "source": [
        "# Inisiasi array SSE\n",
        "sse = []\n",
        "\n",
        "# Menghitung nilai inersia untuk setiap jumlah klaster dari 2 hingga 10 cluster\n",
        "for k in range(2, 10):\n",
        "    kmeans = KMeans(n_clusters=k, init='k-means++', max_iter=300, n_init=10, random_state=0)\n",
        "    kmeans.fit(scaled_data)\n",
        "    sse.append(kmeans.inertia_)\n",
        "\n",
        "# Menampilkan grafik elbow\n",
        "plt.plot(range(2, 10), sse, marker='o')\n",
        "plt.xlabel('Jumlah Klaster')\n",
        "plt.ylabel('SSE')\n",
        "plt.title('Metode Elbow')\n",
        "plt.show()\n",
        "\n",
        "# Menampilkan nilai hasil cluster yang optimal\n",
        "desired_clusters = 3\n",
        "elbow_index = desired_clusters - 2\n",
        "elbow_value = sse[elbow_index]\n",
        "\n",
        "# Menampilkan jumlah klaster optimal dan nilai inersia pada titik elbow\n",
        "print(\"Jumlah klaster optimal:\", desired_clusters)\n",
        "print(\"Nilai inersia pada titik elbow:\", elbow_value)\n"
      ],
      "metadata": {
        "colab": {
          "base_uri": "https://localhost:8080/",
          "height": 507
        },
        "id": "gEhl-xQI136t",
        "outputId": "09e5d3a2-6644-477b-be9e-40ee9bc8d3e7"
      },
      "execution_count": 17,
      "outputs": [
        {
          "output_type": "display_data",
          "data": {
            "text/plain": [
              "<Figure size 640x480 with 1 Axes>"
            ],
            "image/png": "[encoded data removed]"
          },
          "metadata": {}
        },
        {
          "output_type": "stream",
          "name": "stdout",
          "text": [
            "Jumlah klaster optimal: 3\n",
            "Nilai inersia pada titik elbow: 552.2623278535099\n"
          ]
        }
      ]
    },
    {
      "cell_type": "code",
      "source": [
        "# Menampilkan nilai elbow untuk setiap jumlah klaster\n",
        "for i, sse_value in enumerate(sse):\n",
        "    print(\"Jumlah klaster:\", i + 2, \" - Nilai SSE:\", sse_value)"
      ],
      "metadata": {
        "colab": {
          "base_uri": "https://localhost:8080/"
        },
        "id": "KPL3Q6jj3H68",
        "outputId": "08823f0a-0c9e-4beb-ca5c-d97dc6205cb0"
      },
      "execution_count": 18,
      "outputs": [
        {
          "output_type": "stream",
          "name": "stdout",
          "text": [
            "Jumlah klaster: 2  - Nilai SSE: 1067.3121108060038\n",
            "Jumlah klaster: 3  - Nilai SSE: 552.2623278535099\n",
            "Jumlah klaster: 4  - Nilai SSE: 415.6390702100582\n",
            "Jumlah klaster: 5  - Nilai SSE: 312.9798700220889\n",
            "Jumlah klaster: 6  - Nilai SSE: 259.3660995943541\n",
            "Jumlah klaster: 7  - Nilai SSE: 215.9655223540172\n",
            "Jumlah klaster: 8  - Nilai SSE: 184.65683299297157\n",
            "Jumlah klaster: 9  - Nilai SSE: 155.45068137126947\n"
          ]
        }
      ]
    },
    {
      "cell_type": "markdown",
      "source": [
        "## 2.Implementasi Kmeans "
      ],
      "metadata": {
        "id": "XbEPo0fjKnAx"
      }
    },
    {
      "cell_type": "code",
      "source": [
        "# Menginisialisasi KMeans dengan jumlah cluster k\n",
        "kmeans = KMeans(n_clusters=3, init='k-means++', max_iter=300, n_init=10, random_state=0)\n",
        "\n",
        "# Melakukan clustering pada data\n",
        "kmeans.fit(scaled_data)\n",
        "\n",
        "# Menampilkan centroid dan label cluster\n",
        "print(kmeans.cluster_centers_)\n",
        "print(kmeans.labels_)\n"
      ],
      "metadata": {
        "colab": {
          "base_uri": "https://localhost:8080/"
        },
        "id": "QVwkFnnwBVt-",
        "outputId": "333aaf56-8431-4b98-dfc7-03f00dcef0db"
      },
      "execution_count": 19,
      "outputs": [
        {
          "output_type": "stream",
          "name": "stdout",
          "text": [
            "[[ 1.29351356 -0.34225378 -0.3526506   0.        ]\n",
            " [-0.62938173 -0.40893671 -0.40331153  0.        ]\n",
            " [-0.34721987  1.95254607  1.95350548  0.        ]]\n",
            "[2 1 1 2 1 1 2 1 1 1 1 1 1 1 1 1 2 1 1 2 2 2 2 2 1 1 1 2 2 2 1 2 2 2 1 2 1\n",
            " 1 1 1 1 1 1 1 1 1 1 1 1 1 1 1 1 1 1 1 1 1 1 1 1 1 1 1 2 1 1 2 1 2 1 1 1 1\n",
            " 1 1 1 1 1 1 1 1 1 1 1 1 1 1 1 1 1 1 1 1 2 2 1 1 1 2 1 1 1 2 2 2 2 2 1 1 1\n",
            " 1 1 1 1 1 1 1 2 1 1 1 1 1 1 1 1 2 2 1 2 2 1 1 1 1 1 1 1 1 2 1 2 2 2 1 2 2\n",
            " 1 2 1 2 1 1 1 1 1 1 2 1 1 1 2 1 1 2 1 1 1 2 1 1 1 1 1 1 2 1 1 1 1 1 1 1 1\n",
            " 2 1 1 1 2 1 1 1 2 2 2 2 2 2 1 1 1 2 1 1 1 1 1 2 2 1 1 1 1 1 1 1 1 1 1 1 1\n",
            " 1 2 1 1 1 1 1 1 1 1 1 2 2 2 1 1 1 1 1 1 1 1 1 2 2 1 1 1 2 2 2 1 2 2 2 2 2\n",
            " 1 1 1 1 1 2 1 1 1 2 1 1 1 2 1 1 1 1 1 1 1 1 1 1 1 2 1 1 1 1 1 2 1 1 1 1 1\n",
            " 1 1 1 1 1 1 1 1 1 1 1 1 1 1 1 1 1 1 1 1 1 1 1 1 1 1 1 1 1 1 1 1 1 1 1 2 1\n",
            " 1 1 1 1 1 1 1 1 1 1 1 1 1 1 1 1 1 1 1 1 2 2 1 2 1 1 1 1 1 1 1 1 2 2 2 1 1\n",
            " 1 2 1 1 1 2 1 1 1 1 1 1 1 2 1 1 1 1 1 2 1 1 1 1 1 1 1 1 1 1 1 2 2 1 1 1 1\n",
            " 1 1 1 1 1 1 1 1 1 1 1 2 2 2 2 1 1 2 1 1 1 1 1 1 1 1 1 1 1 1 2 1 1 1 1 1 1\n",
            " 1 1 1 1 1 2 1 1 1 1 1 1 1 1 1 2 1 1 1 1 1 1 1 2 1 1 1 1 1 1 1 1 1 1 1 1 1\n",
            " 2 1 1 1 1 0 0 0 0 0 0 0 0 2 0 0 0 0 0 0 0 0 0 0 0 0 0 0 0 0 0 0 0 0 0 2 0\n",
            " 0 0 0 2 2 0 0 0 0 0 0 0 0 0 0 0 0 0 0 0 0 0 0 0 0 0 0 0 0 0 0 0 2 0 2 0 0\n",
            " 0 0 0 0 0 0 0 0 2 0 2 0 0 0 0 0 0 0 0 0 0 0 0 0 0 0 0 0 0 0 0 0 0 0 0 0 0\n",
            " 0 0 0 0 0 0 0 0 0 0 0 0 0 2 0 0 2 2 2 2 2 2 0 2 0 0 0 0 0 2 0 0 0 0 0 0 0\n",
            " 0 2 0 0 0 0 2 0 0 0 0 0 0 0 0 0 0 0 0 0 0 0 0 0 0 2 2 2 0 0 0 0 0 0 0 0 0\n",
            " 0 0 0 0 0 0 0 0 0 0 0 0 0 0 0 0 0 0 0 0 0 0 0 0 0 0 0 0 0 0 0 0 0 0 0 0 0\n",
            " 0 0 0 0 0 0 0 0 0 0 0 0 0 0 0 0 0 0 0 0 0 0 0 0 0 0]\n"
          ]
        }
      ]
    },
    {
      "cell_type": "code",
      "source": [
        "# Visualisasi hasil Cluster\n",
        "fig = plt.figure(figsize=(10, 7))\n",
        "ax = fig.add_subplot(111, projection='3d') \n",
        "ax.scatter(scaled_data[:, 0], scaled_data[:, 1], scaled_data[:, 2], c=kmeans.labels_, cmap='rainbow')\n",
        "ax.scatter(kmeans.cluster_centers_[:, 0], kmeans.cluster_centers_[:, 1], kmeans.cluster_centers_[:, 2], s=200, color='black')\n",
        "ax.set_xlabel('var1')\n",
        "ax.set_ylabel('var2')\n",
        "ax.set_zlabel('var3')\n",
        "plt.show()"
      ],
      "metadata": {
        "colab": {
          "base_uri": "https://localhost:8080/",
          "height": 576
        },
        "id": "JDJeZb_sCiJr",
        "outputId": "751c932b-d031-45b1-a4b5-549472524cfa"
      },
      "execution_count": 20,
      "outputs": [
        {
          "output_type": "display_data",
          "data": {
            "text/plain": [
              "<Figure size 1000x700 with 1 Axes>"
            ],
            "image/png": "[encoded data removed]"
          },
          "metadata": {}
        }
      ]
    },
    {
      "cell_type": "code",
      "source": [
        "# Menambahkan kolom Kluster untuk label cluster\n",
        "data.loc[:, \"Kluster\"] = kmeans.labels_\n",
        "\n",
        "# Membuat variabel untuk menampilkan kolom nama produk dan variasi\n",
        "for idx, row in data.iterrows():\n",
        "    nomor_produk = row['Nomor Produk']\n",
        "    nama = df_raw[df_raw['Nomor Produk'] == nomor_produk]\n",
        "    nama_produk = nama['Nama Produk'].iloc[0]\n",
        "    variasi = nama['Variasi'].iloc[0]\n",
        "    data.loc[idx, 'Nama Produk'] = nama_produk\n",
        "    data.loc[idx, 'Variasi'] = variasi\n",
        "\n",
        "# Menampilkan data dengan kolom kluster, nama produk, dan variasi\n",
        "print(data[['Kluster', 'Nama Produk', 'Variasi']])\n"
      ],
      "metadata": {
        "colab": {
          "base_uri": "https://localhost:8080/"
        },
        "id": "rYp0mBZPBemW",
        "outputId": "2f6b77c0-a661-4630-d055-ed33c8bbbc9c"
      },
      "execution_count": 21,
      "outputs": [
        {
          "output_type": "stream",
          "name": "stderr",
          "text": [
            "<ipython-input-21-817e7ca3e614>:2: SettingWithCopyWarning: \n",
            "A value is trying to be set on a copy of a slice from a DataFrame.\n",
            "Try using .loc[row_indexer,col_indexer] = value instead\n",
            "\n",
            "See the caveats in the documentation: https://pandas.pydata.org/pandas-docs/stable/user_guide/indexing.html#returning-a-view-versus-a-copy\n",
            "  data.loc[:, \"Kluster\"] = kmeans.labels_\n",
            "<ipython-input-21-817e7ca3e614>:10: SettingWithCopyWarning: \n",
            "A value is trying to be set on a copy of a slice from a DataFrame.\n",
            "Try using .loc[row_indexer,col_indexer] = value instead\n",
            "\n",
            "See the caveats in the documentation: https://pandas.pydata.org/pandas-docs/stable/user_guide/indexing.html#returning-a-view-versus-a-copy\n",
            "  data.loc[idx, 'Nama Produk'] = nama_produk\n",
            "<ipython-input-21-817e7ca3e614>:11: SettingWithCopyWarning: \n",
            "A value is trying to be set on a copy of a slice from a DataFrame.\n",
            "Try using .loc[row_indexer,col_indexer] = value instead\n",
            "\n",
            "See the caveats in the documentation: https://pandas.pydata.org/pandas-docs/stable/user_guide/indexing.html#returning-a-view-versus-a-copy\n",
            "  data.loc[idx, 'Variasi'] = variasi\n"
          ]
        },
        {
          "output_type": "stream",
          "name": "stdout",
          "text": [
            "     Kluster                                        Nama Produk  \\\n",
            "0          2           Paket Wajah Ms Glow BARCODE (TANPA GIFT)   \n",
            "1          1           Paket Wajah Ms Glow BARCODE (TANPA GIFT)   \n",
            "2          1           Paket Wajah Ms Glow BARCODE (TANPA GIFT)   \n",
            "3          2           Paket Wajah Ms Glow BARCODE (TANPA GIFT)   \n",
            "4          1                                   Loose Powder You   \n",
            "..       ...                                                ...   \n",
            "916        0        [Produk hasil nyata] PAKET WAJAH CAN BEAUTY   \n",
            "917        0     [Paket isi 3] Angel Tacik lotion ORIGINAL 100%   \n",
            "918        0        [Produk hasil nyata] PAKET WAJAH CAN BEAUTY   \n",
            "919        0  [ TANPA TONER ] PAKET WAJAH MS GLOW (FREE TOTE...   \n",
            "920        0        [Produk hasil nyata] PAKET WAJAH CAN BEAUTY   \n",
            "\n",
            "                         Variasi  \n",
            "0                Paket Whitening  \n",
            "1                 Paket Luminous  \n",
            "2                 Paket Ultimate  \n",
            "3                     Paket Acne  \n",
            "4                        Natural  \n",
            "..                           ...  \n",
            "916         Serum Purifying/Acne  \n",
            "917                            -  \n",
            "918   ECER malam acne can beauty  \n",
            "919  Paket Acne, TANPA DAY CREAM  \n",
            "920    ECER day cream can beauty  \n",
            "\n",
            "[729 rows x 3 columns]\n"
          ]
        }
      ]
    },
    {
      "cell_type": "code",
      "source": [
        "# hasil kolom-kolom yang dibuat\n",
        "data.columns"
      ],
      "metadata": {
        "colab": {
          "base_uri": "https://localhost:8080/"
        },
        "id": "5nCp2weFY-RP",
        "outputId": "48fbd108-213f-4c66-93e9-78e0313ab7d5"
      },
      "execution_count": 22,
      "outputs": [
        {
          "output_type": "execute_result",
          "data": {
            "text/plain": [
              "Index(['Nomor Produk', 'Volume Penjualan', 'Jumlah Transaksi', 'Rata Rata',\n",
              "       'Kluster', 'Nama Produk', 'Variasi'],\n",
              "      dtype='object')"
            ]
          },
          "metadata": {},
          "execution_count": 22
        }
      ]
    },
    {
      "cell_type": "code",
      "source": [
        "# menampikan data\n",
        "data"
      ],
      "metadata": {
        "colab": {
          "base_uri": "https://localhost:8080/",
          "height": 468
        },
        "id": "wJrurMgxZEEB",
        "outputId": "2dd6b0a7-6ec9-4dc1-935e-e06c5511e04a"
      },
      "execution_count": 23,
      "outputs": [
        {
          "output_type": "execute_result",
          "data": {
            "text/plain": [
              "            Nomor Produk  Volume Penjualan  Jumlah Transaksi  Rata Rata  \\\n",
              "0    1729383505215391564                32                32          1   \n",
              "1    1729383505215457100                11                10          1   \n",
              "2    1729383505215522636                 4                 4          1   \n",
              "3    1729383505215588172                26                26          1   \n",
              "4    1729383514305627980                 2                 2          1   \n",
              "..                   ...               ...               ...        ...   \n",
              "916  1729576173693668172                 1                 1          1   \n",
              "917  1729577164510956364                 2                 2          1   \n",
              "918  1729577227370793804                 1                 1          1   \n",
              "919  1729577388495040000                 1                 1          1   \n",
              "920  1729577624722836300                 1                 1          1   \n",
              "\n",
              "     Kluster                                        Nama Produk  \\\n",
              "0          2           Paket Wajah Ms Glow BARCODE (TANPA GIFT)   \n",
              "1          1           Paket Wajah Ms Glow BARCODE (TANPA GIFT)   \n",
              "2          1           Paket Wajah Ms Glow BARCODE (TANPA GIFT)   \n",
              "3          2           Paket Wajah Ms Glow BARCODE (TANPA GIFT)   \n",
              "4          1                                   Loose Powder You   \n",
              "..       ...                                                ...   \n",
              "916        0        [Produk hasil nyata] PAKET WAJAH CAN BEAUTY   \n",
              "917        0     [Paket isi 3] Angel Tacik lotion ORIGINAL 100%   \n",
              "918        0        [Produk hasil nyata] PAKET WAJAH CAN BEAUTY   \n",
              "919        0  [ TANPA TONER ] PAKET WAJAH MS GLOW (FREE TOTE...   \n",
              "920        0        [Produk hasil nyata] PAKET WAJAH CAN BEAUTY   \n",
              "\n",
              "                         Variasi  \n",
              "0                Paket Whitening  \n",
              "1                 Paket Luminous  \n",
              "2                 Paket Ultimate  \n",
              "3                     Paket Acne  \n",
              "4                        Natural  \n",
              "..                           ...  \n",
              "916         Serum Purifying/Acne  \n",
              "917                            -  \n",
              "918   ECER malam acne can beauty  \n",
              "919  Paket Acne, TANPA DAY CREAM  \n",
              "920    ECER day cream can beauty  \n",
              "\n",
              "[729 rows x 7 columns]"
            ],
            "text/html": [
              "\n",
              "  <div id=\"df-df050515-0c83-4e0f-9ec9-78e72a994ab5\">\n",
              "    <div class=\"colab-df-container\">\n",
              "      <div>\n",
              "<style scoped>\n",
              "    .dataframe tbody tr th:only-of-type {\n",
              "        vertical-align: middle;\n",
              "    }\n",
              "\n",
              "    .dataframe tbody tr th {\n",
              "        vertical-align: top;\n",
              "    }\n",
              "\n",
              "    .dataframe thead th {\n",
              "        text-align: right;\n",
              "    }\n",
              "</style>\n",
              "<table border=\"1\" class=\"dataframe\">\n",
              "  <thead>\n",
              "    <tr style=\"text-align: right;\">\n",
              "      <th></th>\n",
              "      <th>Nomor Produk</th>\n",
              "      <th>Volume Penjualan</th>\n",
              "      <th>Jumlah Transaksi</th>\n",
              "      <th>Rata Rata</th>\n",
              "      <th>Kluster</th>\n",
              "      <th>Nama Produk</th>\n",
              "      <th>Variasi</th>\n",
              "    </tr>\n",
              "  </thead>\n",
              "  <tbody>\n",
              "    <tr>\n",
              "      <th>0</th>\n",
              "      <td>1729383505215391564</td>\n",
              "      <td>32</td>\n",
              "      <td>32</td>\n",
              "      <td>1</td>\n",
              "      <td>2</td>\n",
              "      <td>Paket Wajah Ms Glow BARCODE (TANPA GIFT)</td>\n",
              "      <td>Paket Whitening</td>\n",
              "    </tr>\n",
              "    <tr>\n",
              "      <th>1</th>\n",
              "      <td>1729383505215457100</td>\n",
              "      <td>11</td>\n",
              "      <td>10</td>\n",
              "      <td>1</td>\n",
              "      <td>1</td>\n",
              "      <td>Paket Wajah Ms Glow BARCODE (TANPA GIFT)</td>\n",
              "      <td>Paket Luminous</td>\n",
              "    </tr>\n",
              "    <tr>\n",
              "      <th>2</th>\n",
              "      <td>1729383505215522636</td>\n",
              "      <td>4</td>\n",
              "      <td>4</td>\n",
              "      <td>1</td>\n",
              "      <td>1</td>\n",
              "      <td>Paket Wajah Ms Glow BARCODE (TANPA GIFT)</td>\n",
              "      <td>Paket Ultimate</td>\n",
              "    </tr>\n",
              "    <tr>\n",
              "      <th>3</th>\n",
              "      <td>1729383505215588172</td>\n",
              "      <td>26</td>\n",
              "      <td>26</td>\n",
              "      <td>1</td>\n",
              "      <td>2</td>\n",
              "      <td>Paket Wajah Ms Glow BARCODE (TANPA GIFT)</td>\n",
              "      <td>Paket Acne</td>\n",
              "    </tr>\n",
              "    <tr>\n",
              "      <th>4</th>\n",
              "      <td>1729383514305627980</td>\n",
              "      <td>2</td>\n",
              "      <td>2</td>\n",
              "      <td>1</td>\n",
              "      <td>1</td>\n",
              "      <td>Loose Powder You</td>\n",
              "      <td>Natural</td>\n",
              "    </tr>\n",
              "    <tr>\n",
              "      <th>...</th>\n",
              "      <td>...</td>\n",
              "      <td>...</td>\n",
              "      <td>...</td>\n",
              "      <td>...</td>\n",
              "      <td>...</td>\n",
              "      <td>...</td>\n",
              "      <td>...</td>\n",
              "    </tr>\n",
              "    <tr>\n",
              "      <th>916</th>\n",
              "      <td>1729576173693668172</td>\n",
              "      <td>1</td>\n",
              "      <td>1</td>\n",
              "      <td>1</td>\n",
              "      <td>0</td>\n",
              "      <td>[Produk hasil nyata] PAKET WAJAH CAN BEAUTY</td>\n",
              "      <td>Serum Purifying/Acne</td>\n",
              "    </tr>\n",
              "    <tr>\n",
              "      <th>917</th>\n",
              "      <td>1729577164510956364</td>\n",
              "      <td>2</td>\n",
              "      <td>2</td>\n",
              "      <td>1</td>\n",
              "      <td>0</td>\n",
              "      <td>[Paket isi 3] Angel Tacik lotion ORIGINAL 100%</td>\n",
              "      <td>-</td>\n",
              "    </tr>\n",
              "    <tr>\n",
              "      <th>918</th>\n",
              "      <td>1729577227370793804</td>\n",
              "      <td>1</td>\n",
              "      <td>1</td>\n",
              "      <td>1</td>\n",
              "      <td>0</td>\n",
              "      <td>[Produk hasil nyata] PAKET WAJAH CAN BEAUTY</td>\n",
              "      <td>ECER malam acne can beauty</td>\n",
              "    </tr>\n",
              "    <tr>\n",
              "      <th>919</th>\n",
              "      <td>1729577388495040000</td>\n",
              "      <td>1</td>\n",
              "      <td>1</td>\n",
              "      <td>1</td>\n",
              "      <td>0</td>\n",
              "      <td>[ TANPA TONER ] PAKET WAJAH MS GLOW (FREE TOTE...</td>\n",
              "      <td>Paket Acne, TANPA DAY CREAM</td>\n",
              "    </tr>\n",
              "    <tr>\n",
              "      <th>920</th>\n",
              "      <td>1729577624722836300</td>\n",
              "      <td>1</td>\n",
              "      <td>1</td>\n",
              "      <td>1</td>\n",
              "      <td>0</td>\n",
              "      <td>[Produk hasil nyata] PAKET WAJAH CAN BEAUTY</td>\n",
              "      <td>ECER day cream can beauty</td>\n",
              "    </tr>\n",
              "  </tbody>\n",
              "</table>\n",
              "<p>729 rows × 7 columns</p>\n",
              "</div>\n",
              "      <button class=\"colab-df-convert\" onclick=\"convertToInteractive('df-df050515-0c83-4e0f-9ec9-78e72a994ab5')\"\n",
              "              title=\"Convert this dataframe to an interactive table.\"\n",
              "              style=\"display:none;\">\n",
              "        \n",
              "  <svg xmlns=\"http://www.w3.org/2000/svg\" height=\"24px\"viewBox=\"0 0 24 24\"\n",
              "       width=\"24px\">\n",
              "    <path d=\"M0 0h24v24H0V0z\" fill=\"none\"/>\n",
              "    <path d=\"M18.56 5.44l.94 2.06.94-2.06 2.06-.94-2.06-.94-.94-2.06-.94 2.06-2.06.94zm-11 1L8.5 8.5l.94-2.06 2.06-.94-2.06-.94L8.5 2.5l-.94 2.06-2.06.94zm10 10l.94 2.06.94-2.06 2.06-.94-2.06-.94-.94-2.06-.94 2.06-2.06.94z\"/><path d=\"M17.41 7.96l-1.37-1.37c-.4-.4-.92-.59-1.43-.59-.52 0-1.04.2-1.43.59L10.3 9.45l-7.72 7.72c-.78.78-.78 2.05 0 2.83L4 21.41c.39.39.9.59 1.41.59.51 0 1.02-.2 1.41-.59l7.78-7.78 2.81-2.81c.8-.78.8-2.07 0-2.86zM5.41 20L4 18.59l7.72-7.72 1.47 1.35L5.41 20z\"/>\n",
              "  </svg>\n",
              "      </button>\n",
              "      \n",
              "  <style>\n",
              "    .colab-df-container {\n",
              "      display:flex;\n",
              "      flex-wrap:wrap;\n",
              "      gap: 12px;\n",
              "    }\n",
              "\n",
              "    .colab-df-convert {\n",
              "      background-color: #E8F0FE;\n",
              "      border: none;\n",
              "      border-radius: 50%;\n",
              "      cursor: pointer;\n",
              "      display: none;\n",
              "      fill: #1967D2;\n",
              "      height: 32px;\n",
              "      padding: 0 0 0 0;\n",
              "      width: 32px;\n",
              "    }\n",
              "\n",
              "    .colab-df-convert:hover {\n",
              "      background-color: #E2EBFA;\n",
              "      box-shadow: 0px 1px 2px rgba(60, 64, 67, 0.3), 0px 1px 3px 1px rgba(60, 64, 67, 0.15);\n",
              "      fill: #174EA6;\n",
              "    }\n",
              "\n",
              "    [theme=dark] .colab-df-convert {\n",
              "      background-color: #3B4455;\n",
              "      fill: #D2E3FC;\n",
              "    }\n",
              "\n",
              "    [theme=dark] .colab-df-convert:hover {\n",
              "      background-color: #434B5C;\n",
              "      box-shadow: 0px 1px 3px 1px rgba(0, 0, 0, 0.15);\n",
              "      filter: drop-shadow(0px 1px 2px rgba(0, 0, 0, 0.3));\n",
              "      fill: #FFFFFF;\n",
              "    }\n",
              "  </style>\n",
              "\n",
              "      <script>\n",
              "        const buttonEl =\n",
              "          document.querySelector('#df-df050515-0c83-4e0f-9ec9-78e72a994ab5 button.colab-df-convert');\n",
              "        buttonEl.style.display =\n",
              "          google.colab.kernel.accessAllowed ? 'block' : 'none';\n",
              "\n",
              "        async function convertToInteractive(key) {\n",
              "          const element = document.querySelector('#df-df050515-0c83-4e0f-9ec9-78e72a994ab5');\n",
              "          const dataTable =\n",
              "            await google.colab.kernel.invokeFunction('convertToInteractive',\n",
              "                                                     [key], {});\n",
              "          if (!dataTable) return;\n",
              "\n",
              "          const docLinkHtml = 'Like what you see? Visit the ' +\n",
              "            '<a target=\"_blank\" href=https://colab.research.google.com/notebooks/data_table.ipynb>data table notebook</a>'\n",
              "            + ' to learn more about interactive tables.';\n",
              "          element.innerHTML = '';\n",
              "          dataTable['output_type'] = 'display_data';\n",
              "          await google.colab.output.renderOutput(dataTable, element);\n",
              "          const docLink = document.createElement('div');\n",
              "          docLink.innerHTML = docLinkHtml;\n",
              "          element.appendChild(docLink);\n",
              "        }\n",
              "      </script>\n",
              "    </div>\n",
              "  </div>\n",
              "  "
            ]
          },
          "metadata": {},
          "execution_count": 23
        }
      ]
    },
    {
      "cell_type": "markdown",
      "source": [
        "# **Tahap Evaluasi**"
      ],
      "metadata": {
        "id": "vyw1cvJsJmQP"
      }
    },
    {
      "cell_type": "code",
      "source": [
        "\n",
        "def calculate_cluster_centers(X, labels):\n",
        "    cluster_centers = []\n",
        "    unique_labels = np.unique(labels)\n",
        "    for label in unique_labels:\n",
        "        cluster_centers.append(np.mean(X[labels == label], axis=0))\n",
        "    return np.array(cluster_centers)\n",
        "\n",
        "def calculate_intra_cluster_distance(X, labels, cluster_centers):\n",
        "    num_clusters = len(cluster_centers)\n",
        "    intra_cluster_distances = []\n",
        "    for i in range(num_clusters):\n",
        "        cluster_center = cluster_centers[i]\n",
        "        cluster_points = X[labels == i]\n",
        "        distances = pairwise_distances(cluster_points, [cluster_center])\n",
        "        intra_cluster_distances.append(np.mean(distances))\n",
        "    return np.array(intra_cluster_distances)\n",
        "\n",
        "def calculate_inter_cluster_distance(cluster_centers):\n",
        "    num_clusters = len(cluster_centers)\n",
        "    inter_cluster_distances = pairwise_distances(cluster_centers)\n",
        "    np.fill_diagonal(inter_cluster_distances, np.inf)  # Set diagonal values to infinity\n",
        "    return np.min(inter_cluster_distances, axis=1)\n",
        "\n",
        "def calculate_davies_bouldin_index(X, labels):\n",
        "    cluster_centers = calculate_cluster_centers(X, labels)\n",
        "    intra_cluster_distances = calculate_intra_cluster_distance(X, labels, cluster_centers)\n",
        "    inter_cluster_distances = calculate_inter_cluster_distance(cluster_centers)\n",
        "    dbi = np.mean((intra_cluster_distances + inter_cluster_distances) / intra_cluster_distances)\n",
        "    return dbi\n",
        "\n",
        "# Data hasil klasterisasi\n",
        "X = scaled_data\n",
        "labels = kmeans.labels_\n",
        "\n",
        "# memeriksa indeks Davies-Bouldin untuk hasil di atas:\n",
        "db_index = davies_bouldin_score(scaled_data, labels)\n",
        "print(db_index)"
      ],
      "metadata": {
        "colab": {
          "base_uri": "https://localhost:8080/"
        },
        "id": "W8GMDp8D3oOf",
        "outputId": "dc956c0d-4b7a-4957-d38f-2dbffe38818a"
      },
      "execution_count": 24,
      "outputs": [
        {
          "output_type": "stream",
          "name": "stdout",
          "text": [
            "0.6333504168920968\n"
          ]
        }
      ]
    },
    {
      "cell_type": "code",
      "source": [
        "results = {}\n",
        "for i in range(2, 10):\n",
        "    kmeans = KMeans(n_clusters=i, random_state=30, n_init=10)\n",
        "    kmeans.fit(scaled_data)\n",
        "    labels = kmeans.labels_\n",
        "    db_index = davies_bouldin_score(scaled_data, labels)\n",
        "    results[i] = db_index\n",
        "\n",
        "print(\"Davies-Bouldin Index for different number of clusters:\")\n",
        "for k, v in results.items():\n",
        "    print(\"Number of Clusters:\", k, \"- DBI:\", v)"
      ],
      "metadata": {
        "id": "ZVdDeoPtIXai",
        "colab": {
          "base_uri": "https://localhost:8080/"
        },
        "outputId": "35a530b5-8a2d-4b27-e5f0-da583569530b"
      },
      "execution_count": 25,
      "outputs": [
        {
          "output_type": "stream",
          "name": "stdout",
          "text": [
            "Davies-Bouldin Index for different number of clusters:\n",
            "Number of Clusters: 2 - DBI: 0.737894102479764\n",
            "Number of Clusters: 3 - DBI: 0.6333504168920968\n",
            "Number of Clusters: 4 - DBI: 0.7205258282707007\n",
            "Number of Clusters: 5 - DBI: 0.6766154044014966\n",
            "Number of Clusters: 6 - DBI: 0.7193743661668627\n",
            "Number of Clusters: 7 - DBI: 0.6468373383700349\n",
            "Number of Clusters: 8 - DBI: 0.6587531865962108\n",
            "Number of Clusters: 9 - DBI: 0.6534751660375385\n"
          ]
        }
      ]
    }
  ]
}